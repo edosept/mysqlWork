{
 "cells": [
  {
   "cell_type": "code",
   "execution_count": 1,
   "metadata": {
    "ExecuteTime": {
     "end_time": "2021-06-12T14:17:59.128080Z",
     "start_time": "2021-06-12T14:17:43.490952Z"
    }
   },
   "outputs": [],
   "source": [
    "import mysql.connector\n",
    "import pandas as pd"
   ]
  },
  {
   "cell_type": "markdown",
   "metadata": {},
   "source": [
    "# Create Connection"
   ]
  },
  {
   "cell_type": "code",
   "execution_count": 2,
   "metadata": {
    "ExecuteTime": {
     "end_time": "2021-06-12T14:21:22.317846Z",
     "start_time": "2021-06-12T14:21:17.479816Z"
    }
   },
   "outputs": [],
   "source": [
    "mydb = mysql.connector.connect (\n",
    "host = 'localhost',\n",
    "user = 'root',\n",
    "password = 'shanday48',\n",
    "database = 'world')"
   ]
  },
  {
   "cell_type": "markdown",
   "metadata": {},
   "source": [
    "# Access to Database (1st Method)"
   ]
  },
  {
   "cell_type": "code",
   "execution_count": 3,
   "metadata": {
    "ExecuteTime": {
     "end_time": "2021-06-12T14:23:47.426758Z",
     "start_time": "2021-06-12T14:23:47.411096Z"
    }
   },
   "outputs": [],
   "source": [
    "# create access\n",
    "mycursor = mydb.cursor()"
   ]
  },
  {
   "cell_type": "code",
   "execution_count": 4,
   "metadata": {
    "ExecuteTime": {
     "end_time": "2021-06-12T14:24:10.009752Z",
     "start_time": "2021-06-12T14:24:10.005760Z"
    }
   },
   "outputs": [],
   "source": [
    "query = 'select * from city'"
   ]
  },
  {
   "cell_type": "code",
   "execution_count": 5,
   "metadata": {
    "ExecuteTime": {
     "end_time": "2021-06-12T14:24:52.137704Z",
     "start_time": "2021-06-12T14:24:50.035651Z"
    }
   },
   "outputs": [],
   "source": [
    "mycursor.execute(query)"
   ]
  },
  {
   "cell_type": "code",
   "execution_count": 6,
   "metadata": {
    "ExecuteTime": {
     "end_time": "2021-06-12T14:25:23.902646Z",
     "start_time": "2021-06-12T14:25:23.814756Z"
    }
   },
   "outputs": [],
   "source": [
    "# save result\n",
    "result = mycursor.fetchall()"
   ]
  },
  {
   "cell_type": "code",
   "execution_count": 7,
   "metadata": {
    "ExecuteTime": {
     "end_time": "2021-06-12T14:26:10.415153Z",
     "start_time": "2021-06-12T14:26:10.214877Z"
    }
   },
   "outputs": [],
   "source": [
    "df = pd.DataFrame(result, columns = mycursor.column_names)"
   ]
  },
  {
   "cell_type": "code",
   "execution_count": 8,
   "metadata": {
    "ExecuteTime": {
     "end_time": "2021-06-12T14:26:18.251716Z",
     "start_time": "2021-06-12T14:26:18.060651Z"
    }
   },
   "outputs": [
    {
     "data": {
      "text/html": [
       "<div>\n",
       "<style scoped>\n",
       "    .dataframe tbody tr th:only-of-type {\n",
       "        vertical-align: middle;\n",
       "    }\n",
       "\n",
       "    .dataframe tbody tr th {\n",
       "        vertical-align: top;\n",
       "    }\n",
       "\n",
       "    .dataframe thead th {\n",
       "        text-align: right;\n",
       "    }\n",
       "</style>\n",
       "<table border=\"1\" class=\"dataframe\">\n",
       "  <thead>\n",
       "    <tr style=\"text-align: right;\">\n",
       "      <th></th>\n",
       "      <th>ID</th>\n",
       "      <th>Name</th>\n",
       "      <th>CountryCode</th>\n",
       "      <th>District</th>\n",
       "      <th>Population</th>\n",
       "    </tr>\n",
       "  </thead>\n",
       "  <tbody>\n",
       "    <tr>\n",
       "      <th>0</th>\n",
       "      <td>1</td>\n",
       "      <td>Kabul</td>\n",
       "      <td>AFG</td>\n",
       "      <td>Kabol</td>\n",
       "      <td>1780000</td>\n",
       "    </tr>\n",
       "    <tr>\n",
       "      <th>1</th>\n",
       "      <td>2</td>\n",
       "      <td>Qandahar</td>\n",
       "      <td>AFG</td>\n",
       "      <td>Qandahar</td>\n",
       "      <td>237500</td>\n",
       "    </tr>\n",
       "    <tr>\n",
       "      <th>2</th>\n",
       "      <td>3</td>\n",
       "      <td>Herat</td>\n",
       "      <td>AFG</td>\n",
       "      <td>Herat</td>\n",
       "      <td>186800</td>\n",
       "    </tr>\n",
       "    <tr>\n",
       "      <th>3</th>\n",
       "      <td>4</td>\n",
       "      <td>Mazar-e-Sharif</td>\n",
       "      <td>AFG</td>\n",
       "      <td>Balkh</td>\n",
       "      <td>127800</td>\n",
       "    </tr>\n",
       "    <tr>\n",
       "      <th>4</th>\n",
       "      <td>5</td>\n",
       "      <td>Amsterdam</td>\n",
       "      <td>NLD</td>\n",
       "      <td>Noord-Holland</td>\n",
       "      <td>731200</td>\n",
       "    </tr>\n",
       "  </tbody>\n",
       "</table>\n",
       "</div>"
      ],
      "text/plain": [
       "   ID            Name CountryCode       District  Population\n",
       "0   1           Kabul         AFG          Kabol     1780000\n",
       "1   2        Qandahar         AFG       Qandahar      237500\n",
       "2   3           Herat         AFG          Herat      186800\n",
       "3   4  Mazar-e-Sharif         AFG          Balkh      127800\n",
       "4   5       Amsterdam         NLD  Noord-Holland      731200"
      ]
     },
     "execution_count": 8,
     "metadata": {},
     "output_type": "execute_result"
    }
   ],
   "source": [
    "df.head()"
   ]
  },
  {
   "cell_type": "markdown",
   "metadata": {},
   "source": [
    "# 2nd method, create function"
   ]
  },
  {
   "cell_type": "code",
   "execution_count": 9,
   "metadata": {
    "ExecuteTime": {
     "end_time": "2021-06-12T14:28:57.187381Z",
     "start_time": "2021-06-12T14:28:57.182394Z"
    }
   },
   "outputs": [],
   "source": [
    "# create access\n",
    "mycursor = mydb.cursor()"
   ]
  },
  {
   "cell_type": "code",
   "execution_count": 10,
   "metadata": {
    "ExecuteTime": {
     "end_time": "2021-06-12T14:31:52.967232Z",
     "start_time": "2021-06-12T14:31:52.942422Z"
    }
   },
   "outputs": [],
   "source": [
    "# create function\n",
    "def sql_df(yourQuery):\n",
    "    mycursor.execute(yourQuery)\n",
    "    myresult = mycursor.fetchall()\n",
    "    df = pd.DataFrame(myresult, columns = mycursor.column_names)\n",
    "    return df"
   ]
  },
  {
   "cell_type": "code",
   "execution_count": 11,
   "metadata": {
    "ExecuteTime": {
     "end_time": "2021-06-12T14:32:13.660513Z",
     "start_time": "2021-06-12T14:32:13.536336Z"
    }
   },
   "outputs": [
    {
     "data": {
      "text/html": [
       "<div>\n",
       "<style scoped>\n",
       "    .dataframe tbody tr th:only-of-type {\n",
       "        vertical-align: middle;\n",
       "    }\n",
       "\n",
       "    .dataframe tbody tr th {\n",
       "        vertical-align: top;\n",
       "    }\n",
       "\n",
       "    .dataframe thead th {\n",
       "        text-align: right;\n",
       "    }\n",
       "</style>\n",
       "<table border=\"1\" class=\"dataframe\">\n",
       "  <thead>\n",
       "    <tr style=\"text-align: right;\">\n",
       "      <th></th>\n",
       "      <th>ID</th>\n",
       "      <th>Name</th>\n",
       "      <th>CountryCode</th>\n",
       "      <th>District</th>\n",
       "      <th>Population</th>\n",
       "    </tr>\n",
       "  </thead>\n",
       "  <tbody>\n",
       "    <tr>\n",
       "      <th>0</th>\n",
       "      <td>1</td>\n",
       "      <td>Kabul</td>\n",
       "      <td>AFG</td>\n",
       "      <td>Kabol</td>\n",
       "      <td>1780000</td>\n",
       "    </tr>\n",
       "    <tr>\n",
       "      <th>1</th>\n",
       "      <td>2</td>\n",
       "      <td>Qandahar</td>\n",
       "      <td>AFG</td>\n",
       "      <td>Qandahar</td>\n",
       "      <td>237500</td>\n",
       "    </tr>\n",
       "    <tr>\n",
       "      <th>2</th>\n",
       "      <td>3</td>\n",
       "      <td>Herat</td>\n",
       "      <td>AFG</td>\n",
       "      <td>Herat</td>\n",
       "      <td>186800</td>\n",
       "    </tr>\n",
       "    <tr>\n",
       "      <th>3</th>\n",
       "      <td>4</td>\n",
       "      <td>Mazar-e-Sharif</td>\n",
       "      <td>AFG</td>\n",
       "      <td>Balkh</td>\n",
       "      <td>127800</td>\n",
       "    </tr>\n",
       "    <tr>\n",
       "      <th>4</th>\n",
       "      <td>5</td>\n",
       "      <td>Amsterdam</td>\n",
       "      <td>NLD</td>\n",
       "      <td>Noord-Holland</td>\n",
       "      <td>731200</td>\n",
       "    </tr>\n",
       "  </tbody>\n",
       "</table>\n",
       "</div>"
      ],
      "text/plain": [
       "   ID            Name CountryCode       District  Population\n",
       "0   1           Kabul         AFG          Kabol     1780000\n",
       "1   2        Qandahar         AFG       Qandahar      237500\n",
       "2   3           Herat         AFG          Herat      186800\n",
       "3   4  Mazar-e-Sharif         AFG          Balkh      127800\n",
       "4   5       Amsterdam         NLD  Noord-Holland      731200"
      ]
     },
     "execution_count": 11,
     "metadata": {},
     "output_type": "execute_result"
    }
   ],
   "source": [
    "sql_df('''\n",
    "select * from city limit 5\n",
    "''')"
   ]
  },
  {
   "cell_type": "code",
   "execution_count": null,
   "metadata": {},
   "outputs": [],
   "source": []
  }
 ],
 "metadata": {
  "kernelspec": {
   "display_name": "Python [conda env:purwadhika_anaconda]",
   "language": "python",
   "name": "conda-env-purwadhika_anaconda-py"
  },
  "language_info": {
   "codemirror_mode": {
    "name": "ipython",
    "version": 3
   },
   "file_extension": ".py",
   "mimetype": "text/x-python",
   "name": "python",
   "nbconvert_exporter": "python",
   "pygments_lexer": "ipython3",
   "version": "3.9.4"
  }
 },
 "nbformat": 4,
 "nbformat_minor": 2
}
